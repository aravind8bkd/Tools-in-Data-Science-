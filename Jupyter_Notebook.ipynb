{
 "cells": [
  {
   "cell_type": "markdown",
   "metadata": {},
   "source": [
    "<center>\n",
    "    <img src=\"https://s3-api.us-geo.objectstorage.softlayer.net/cf-courses-data/CognitiveClass/Logos/organization_logo/organization_logo.png\" width=\"300\" alt=\"cognitiveclass.ai logo\"  />\n",
    "</center>\n"
   ]
  },
  {
   "cell_type": "markdown",
   "metadata": {},
   "source": [
    "#### Add your code below following the instructions given in the course\n"
   ]
  },
  {
   "cell_type": "markdown",
   "metadata": {},
   "source": [
    "#  My Jupyter Notebook on IBM Watson Studio"
   ]
  },
  {
   "cell_type": "markdown",
   "metadata": {},
   "source": [
    "**Aravind Babu**"
   ]
  },
  {
   "cell_type": "markdown",
   "metadata": {},
   "source": [
    "Current occupation- Mechanical Engineer"
   ]
  },
  {
   "cell_type": "markdown",
   "metadata": {},
   "source": [
    "Desired occupation- Data Scientist"
   ]
  },
  {
   "cell_type": "markdown",
   "metadata": {},
   "source": [
    "*I am interested in data science primarily because I am a natural analytical thinker. Secondly, what attracted me to data science is its growing importance and associated career growth, vast learning opportunities and better salary when compared to mechanical engineering which is of course an evergreen branch in engineering. Physics and Computer Science were my areas of interest since childhood*"
   ]
  },
  {
   "cell_type": "markdown",
   "metadata": {},
   "source": [
    "### The code below asks for your name and Date of Birth. The output would show a greeting message containing your name and age in years as on 2022:"
   ]
  },
  {
   "cell_type": "code",
   "execution_count": 6,
   "metadata": {},
   "outputs": [
    {
     "name": "stdin",
     "output_type": "stream",
     "text": [
      "What is your name? Aravind\n",
      "In which year were you born? 2000\n"
     ]
    },
    {
     "name": "stdout",
     "output_type": "stream",
     "text": [
      "Hello Aravind! You are 22 years old.\n"
     ]
    }
   ],
   "source": [
    "name = str(input('What is your name?'))\n",
    "birth_year = int(input('In which year were you born?'))\n",
    "age = 2022 - birth_year\n",
    "print(f'Hello {name}! You are {age} years old.')"
   ]
  },
  {
   "cell_type": "markdown",
   "metadata": {},
   "source": [
    "This is a horizontal ruled sentence.\n",
    "***\n",
    "\n",
    "1. this is the first item\n",
    "2. this is a second item\n",
    "\n",
    "+ bulleted list item1\n",
    "+ bulleted list item2\n",
    "\n",
    "Here is a sample logo:\n",
    "\n",
    "Below you can see the IBM Pride Month Logo:\n",
    "![alt text](https://www.ibm.com/blogs/policy/wp-content/uploads/2017/01/IBM_LGBT_Logo_RGB.jpg)"
   ]
  }
 ],
 "metadata": {
  "kernelspec": {
   "display_name": "Python",
   "language": "python",
   "name": "conda-env-python-py"
  },
  "language_info": {
   "codemirror_mode": {
    "name": "ipython",
    "version": 3
   },
   "file_extension": ".py",
   "mimetype": "text/x-python",
   "name": "python",
   "nbconvert_exporter": "python",
   "pygments_lexer": "ipython3",
   "version": "3.7.12"
  }
 },
 "nbformat": 4,
 "nbformat_minor": 4
}
